{
  "nbformat": 4,
  "nbformat_minor": 0,
  "metadata": {
    "colab": {
      "provenance": [],
      "authorship_tag": "ABX9TyOVC5Ptwi1K8BjNmzED8Fu3",
      "include_colab_link": true
    },
    "kernelspec": {
      "name": "python3",
      "display_name": "Python 3"
    },
    "language_info": {
      "name": "python"
    }
  },
  "cells": [
    {
      "cell_type": "markdown",
      "metadata": {
        "id": "view-in-github",
        "colab_type": "text"
      },
      "source": [
        "<a href=\"https://colab.research.google.com/github/vivekswamy021/file_renaming/blob/main/File_rename_tool.ipynb\" target=\"_parent\"><img src=\"https://colab.research.google.com/assets/colab-badge.svg\" alt=\"Open In Colab\"/></a>"
      ]
    },
    {
      "cell_type": "code",
      "source": [
        "import os\n",
        "i=0\n",
        "path = os.chdir(\"/content/drive/MyDrive/New folder\")\n",
        "for file in os.listdir(path):\n",
        "  new_file_name=\"image{}.jpg\".format(i)\n",
        "  os.rename(file,new_file_name)\n",
        "  i+=1\n",
        "  print(new_file_name)"
      ],
      "metadata": {
        "colab": {
          "base_uri": "https://localhost:8080/"
        },
        "id": "3pV9w_gBG4ag",
        "outputId": "5fc97491-e0ac-4dd9-c2f2-dd0e839bf66b"
      },
      "execution_count": null,
      "outputs": [
        {
          "output_type": "stream",
          "name": "stdout",
          "text": [
            "image0.jpg\n",
            "image1.jpg\n",
            "image2.jpg\n",
            "image3.jpg\n",
            "image4.jpg\n"
          ]
        }
      ]
    },
    {
      "cell_type": "code",
      "source": [],
      "metadata": {
        "id": "0-0mOZvPHtoP"
      },
      "execution_count": null,
      "outputs": []
    },
    {
      "cell_type": "code",
      "source": [],
      "metadata": {
        "id": "hDGb7kMwDEj9"
      },
      "execution_count": null,
      "outputs": []
    }
  ]
}