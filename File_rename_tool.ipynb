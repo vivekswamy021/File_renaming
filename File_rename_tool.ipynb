{
  "nbformat": 4,
  "nbformat_minor": 0,
  "metadata": {
    "colab": {
      "provenance": [],
      "mount_file_id": "1nw70F0D-AAYSh-XSdoPQpZ7xrAyq2Y_7",
      "authorship_tag": "ABX9TyPHsgWrJVVrGgesSDt/lxpM",
      "include_colab_link": true
    },
    "kernelspec": {
      "name": "python3",
      "display_name": "Python 3"
    },
    "language_info": {
      "name": "python"
    }
  },
  "cells": [
    {
      "cell_type": "markdown",
      "metadata": {
        "id": "view-in-github",
        "colab_type": "text"
      },
      "source": [
        "<a href=\"https://colab.research.google.com/github/vivekswamy021/file_renaming/blob/main/File_rename_tool.ipynb\" target=\"_parent\"><img src=\"https://colab.research.google.com/assets/colab-badge.svg\" alt=\"Open In Colab\"/></a>"
      ]
    },
    {
      "cell_type": "code",
      "source": [
        "import os\n",
        "# Initialize the counter\n",
        "i=0\n",
        "# Change working directory to the specified path\n",
        "path = (\"/content/drive/MyDrive/New folder\")\n",
        "os.chdir(path)\n",
        "\n",
        "# Loop through all files in the directory\n",
        "for file in os.listdir(path):\n",
        "   # Generate new file name\n",
        "  new_file_name=\"image{}.jpg\".format(i)\n",
        "   # Rename the file\n",
        "  os.rename(file,new_file_name)\n",
        "  # increment the counter\n",
        "  i+=1\n",
        "  print(f\"old name: {file} ->    {new_file_name}\")"
      ],
      "metadata": {
        "colab": {
          "base_uri": "https://localhost:8080/"
        },
        "id": "3pV9w_gBG4ag",
        "outputId": "f38d4927-32bf-4196-96b8-303446669811"
      },
      "execution_count": 20,
      "outputs": [
        {
          "output_type": "stream",
          "name": "stdout",
          "text": [
            "old name: jckjsc0.jpg ->    image0.jpg\n",
            "old name: jckjsc1.jpg ->    image1.jpg\n",
            "old name: jckjsc2.jpg ->    image2.jpg\n",
            "old name: jckjsc3.jpg ->    image3.jpg\n",
            "old name: jckjsc4.jpg ->    image4.jpg\n",
            "old name: jckjsc5.jpg ->    image5.jpg\n",
            "old name: jckjsc6.jpg ->    image6.jpg\n",
            "old name: jckjsc7.jpg ->    image7.jpg\n",
            "old name: jckjsc8.jpg ->    image8.jpg\n",
            "old name: jckjsc9.jpg ->    image9.jpg\n"
          ]
        }
      ]
    },
    {
      "cell_type": "code",
      "source": [],
      "metadata": {
        "id": "0-0mOZvPHtoP"
      },
      "execution_count": null,
      "outputs": []
    },
    {
      "cell_type": "code",
      "source": [],
      "metadata": {
        "id": "hDGb7kMwDEj9"
      },
      "execution_count": null,
      "outputs": []
    }
  ]
}