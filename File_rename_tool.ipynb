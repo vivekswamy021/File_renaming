{
  "nbformat": 4,
  "nbformat_minor": 0,
  "metadata": {
    "colab": {
      "provenance": [],
      "mount_file_id": "1nw70F0D-AAYSh-XSdoPQpZ7xrAyq2Y_7",
      "authorship_tag": "ABX9TyNvKu4LidlYrD02+l6XcbeH",
      "include_colab_link": true
    },
    "kernelspec": {
      "name": "python3",
      "display_name": "Python 3"
    },
    "language_info": {
      "name": "python"
    }
  },
  "cells": [
    {
      "cell_type": "markdown",
      "metadata": {
        "id": "view-in-github",
        "colab_type": "text"
      },
      "source": [
        "<a href=\"https://colab.research.google.com/github/vivekswamy021/file_renaming/blob/main/File_rename_tool.ipynb\" target=\"_parent\"><img src=\"https://colab.research.google.com/assets/colab-badge.svg\" alt=\"Open In Colab\"/></a>"
      ]
    },
    {
      "cell_type": "code",
      "source": [
        "import os\n",
        "# Initialize the counter\n",
        "i=0\n",
        "# Change working directory to the specified path\n",
        "path = (\"/content/drive/MyDrive/New folder\")\n",
        "os.chdir(path)\n",
        "\n",
        "# Loop through all files in the directory\n",
        "for file in os.listdir(path):\n",
        "   # Generate new file name\n",
        "  new_file_name=\"im{}.jpg\".format(i)\n",
        "   # Rename the file\n",
        "  os.rename(file,new_file_name)\n",
        "  # increment the counter\n",
        "  i+=1\n",
        "  print(f\"old name: {file} ->{new_file_name}\")"
      ],
      "metadata": {
        "colab": {
          "base_uri": "https://localhost:8080/"
        },
        "id": "3pV9w_gBG4ag",
        "outputId": "fe824124-c404-4c75-820f-397c76b8272b"
      },
      "execution_count": 11,
      "outputs": [
        {
          "output_type": "stream",
          "name": "stdout",
          "text": [
            "old name: image0.jpg ->im0.jpg\n",
            "old name: image1.jpg ->im1.jpg\n",
            "old name: image2.jpg ->im2.jpg\n",
            "old name: image3.jpg ->im3.jpg\n",
            "old name: image4.jpg ->im4.jpg\n"
          ]
        }
      ]
    },
    {
      "cell_type": "code",
      "source": [],
      "metadata": {
        "id": "0-0mOZvPHtoP"
      },
      "execution_count": null,
      "outputs": []
    },
    {
      "cell_type": "code",
      "source": [],
      "metadata": {
        "id": "hDGb7kMwDEj9"
      },
      "execution_count": null,
      "outputs": []
    }
  ]
}