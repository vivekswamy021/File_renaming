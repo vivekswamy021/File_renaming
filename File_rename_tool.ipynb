{
  "nbformat": 4,
  "nbformat_minor": 0,
  "metadata": {
    "colab": {
      "provenance": [],
      "mount_file_id": "1nw70F0D-AAYSh-XSdoPQpZ7xrAyq2Y_7",
      "authorship_tag": "ABX9TyNT5ATRG3R0ZNWSDPsO7ZXO",
      "include_colab_link": true
    },
    "kernelspec": {
      "name": "python3",
      "display_name": "Python 3"
    },
    "language_info": {
      "name": "python"
    }
  },
  "cells": [
    {
      "cell_type": "markdown",
      "metadata": {
        "id": "view-in-github",
        "colab_type": "text"
      },
      "source": [
        "<a href=\"https://colab.research.google.com/github/vivekswamy021/file_renaming/blob/main/File_rename_tool.ipynb\" target=\"_parent\"><img src=\"https://colab.research.google.com/assets/colab-badge.svg\" alt=\"Open In Colab\"/></a>"
      ]
    },
    {
      "cell_type": "code",
      "source": [
        "import os\n",
        "# Initialize the counter\n",
        "i=0\n",
        "# Change working directory to the specified path\n",
        "path = os.chdir(\"/content/drive/MyDrive/New folder\")\n",
        "\n",
        "# Loop through all files in the directory\n",
        "for file in os.listdir(path):\n",
        "   # Generate new file name\n",
        "  new_file_name=\"photo{}.jpg\".format(i)\n",
        "   # Rename the file\n",
        "  os.rename(file,new_file_name)\n",
        "  # increment the counter\n",
        "  i+=1\n",
        "  print(f\"old name: {file} ->{new_file_name}\")"
      ],
      "metadata": {
        "colab": {
          "base_uri": "https://localhost:8080/"
        },
        "id": "3pV9w_gBG4ag",
        "outputId": "a116c810-8d9e-4c0b-c3eb-86c18cedf0d9"
      },
      "execution_count": 8,
      "outputs": [
        {
          "output_type": "stream",
          "name": "stdout",
          "text": [
            "old name: pic0.jpg ->photo0.jpg\n",
            "old name: pic1.jpg ->photo1.jpg\n",
            "old name: pic2.jpg ->photo2.jpg\n",
            "old name: pic3.jpg ->photo3.jpg\n",
            "old name: pic4.jpg ->photo4.jpg\n"
          ]
        }
      ]
    },
    {
      "cell_type": "code",
      "source": [],
      "metadata": {
        "id": "0-0mOZvPHtoP"
      },
      "execution_count": null,
      "outputs": []
    },
    {
      "cell_type": "code",
      "source": [],
      "metadata": {
        "id": "hDGb7kMwDEj9"
      },
      "execution_count": null,
      "outputs": []
    }
  ]
}